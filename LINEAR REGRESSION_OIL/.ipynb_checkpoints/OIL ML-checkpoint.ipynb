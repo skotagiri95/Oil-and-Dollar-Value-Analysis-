{
 "cells": [
  {
   "cell_type": "code",
   "execution_count": 1,
   "metadata": {},
   "outputs": [],
   "source": [
    "import pandas as pd\n",
    "from pathlib import Path\n",
    "import matplotlib.pyplot as plt\n",
    "from sklearn.linear_model import LinearRegression"
   ]
  },
  {
   "cell_type": "code",
   "execution_count": 5,
   "metadata": {
    "scrolled": false
   },
   "outputs": [
    {
     "data": {
      "text/html": [
       "<div>\n",
       "<style scoped>\n",
       "    .dataframe tbody tr th:only-of-type {\n",
       "        vertical-align: middle;\n",
       "    }\n",
       "\n",
       "    .dataframe tbody tr th {\n",
       "        vertical-align: top;\n",
       "    }\n",
       "\n",
       "    .dataframe thead th {\n",
       "        text-align: right;\n",
       "    }\n",
       "</style>\n",
       "<table border=\"1\" class=\"dataframe\">\n",
       "  <thead>\n",
       "    <tr style=\"text-align: right;\">\n",
       "      <th></th>\n",
       "      <th>date_x</th>\n",
       "      <th>value_x</th>\n",
       "      <th>my</th>\n",
       "      <th>year_x</th>\n",
       "      <th>date_y</th>\n",
       "      <th>value_y</th>\n",
       "      <th>year_y</th>\n",
       "    </tr>\n",
       "  </thead>\n",
       "  <tbody>\n",
       "    <tr>\n",
       "      <th>0</th>\n",
       "      <td>2010-04-09</td>\n",
       "      <td>84.92</td>\n",
       "      <td>04/2010</td>\n",
       "      <td>2010</td>\n",
       "      <td>04/05/2010</td>\n",
       "      <td>2.897</td>\n",
       "      <td>2010</td>\n",
       "    </tr>\n",
       "    <tr>\n",
       "      <th>1</th>\n",
       "      <td>2010-04-09</td>\n",
       "      <td>84.92</td>\n",
       "      <td>04/2010</td>\n",
       "      <td>2010</td>\n",
       "      <td>04/12/2010</td>\n",
       "      <td>2.933</td>\n",
       "      <td>2010</td>\n",
       "    </tr>\n",
       "    <tr>\n",
       "      <th>2</th>\n",
       "      <td>2010-04-09</td>\n",
       "      <td>84.92</td>\n",
       "      <td>04/2010</td>\n",
       "      <td>2010</td>\n",
       "      <td>04/19/2010</td>\n",
       "      <td>2.935</td>\n",
       "      <td>2010</td>\n",
       "    </tr>\n",
       "    <tr>\n",
       "      <th>3</th>\n",
       "      <td>2010-04-09</td>\n",
       "      <td>84.92</td>\n",
       "      <td>04/2010</td>\n",
       "      <td>2010</td>\n",
       "      <td>04/26/2010</td>\n",
       "      <td>2.920</td>\n",
       "      <td>2010</td>\n",
       "    </tr>\n",
       "    <tr>\n",
       "      <th>4</th>\n",
       "      <td>2010-04-12</td>\n",
       "      <td>84.34</td>\n",
       "      <td>04/2010</td>\n",
       "      <td>2010</td>\n",
       "      <td>04/05/2010</td>\n",
       "      <td>2.897</td>\n",
       "      <td>2010</td>\n",
       "    </tr>\n",
       "  </tbody>\n",
       "</table>\n",
       "</div>"
      ],
      "text/plain": [
       "       date_x  value_x       my  year_x      date_y  value_y  year_y\n",
       "0  2010-04-09    84.92  04/2010    2010  04/05/2010    2.897    2010\n",
       "1  2010-04-09    84.92  04/2010    2010  04/12/2010    2.933    2010\n",
       "2  2010-04-09    84.92  04/2010    2010  04/19/2010    2.935    2010\n",
       "3  2010-04-09    84.92  04/2010    2010  04/26/2010    2.920    2010\n",
       "4  2010-04-12    84.34  04/2010    2010  04/05/2010    2.897    2010"
      ]
     },
     "execution_count": 5,
     "metadata": {},
     "output_type": "execute_result"
    }
   ],
   "source": [
    "df = pd.read_csv(Path('../Resources/oil_gas_clean.csv'))\n",
    "df.head()"
   ]
  },
  {
   "cell_type": "code",
   "execution_count": 8,
   "metadata": {
    "scrolled": true
   },
   "outputs": [
    {
     "data": {
      "text/html": [
       "<div>\n",
       "<style scoped>\n",
       "    .dataframe tbody tr th:only-of-type {\n",
       "        vertical-align: middle;\n",
       "    }\n",
       "\n",
       "    .dataframe tbody tr th {\n",
       "        vertical-align: top;\n",
       "    }\n",
       "\n",
       "    .dataframe thead th {\n",
       "        text-align: right;\n",
       "    }\n",
       "</style>\n",
       "<table border=\"1\" class=\"dataframe\">\n",
       "  <thead>\n",
       "    <tr style=\"text-align: right;\">\n",
       "      <th></th>\n",
       "      <th>date_x</th>\n",
       "      <th>value_x</th>\n",
       "      <th>value_y</th>\n",
       "    </tr>\n",
       "  </thead>\n",
       "  <tbody>\n",
       "    <tr>\n",
       "      <th>0</th>\n",
       "      <td>2010-04-09</td>\n",
       "      <td>84.92</td>\n",
       "      <td>2.897</td>\n",
       "    </tr>\n",
       "    <tr>\n",
       "      <th>1</th>\n",
       "      <td>2010-04-09</td>\n",
       "      <td>84.92</td>\n",
       "      <td>2.933</td>\n",
       "    </tr>\n",
       "    <tr>\n",
       "      <th>2</th>\n",
       "      <td>2010-04-09</td>\n",
       "      <td>84.92</td>\n",
       "      <td>2.935</td>\n",
       "    </tr>\n",
       "    <tr>\n",
       "      <th>3</th>\n",
       "      <td>2010-04-09</td>\n",
       "      <td>84.92</td>\n",
       "      <td>2.920</td>\n",
       "    </tr>\n",
       "    <tr>\n",
       "      <th>4</th>\n",
       "      <td>2010-04-12</td>\n",
       "      <td>84.34</td>\n",
       "      <td>2.897</td>\n",
       "    </tr>\n",
       "    <tr>\n",
       "      <th>...</th>\n",
       "      <td>...</td>\n",
       "      <td>...</td>\n",
       "      <td>...</td>\n",
       "    </tr>\n",
       "    <tr>\n",
       "      <th>10948</th>\n",
       "      <td>2020-04-01</td>\n",
       "      <td>20.31</td>\n",
       "      <td>2.207</td>\n",
       "    </tr>\n",
       "    <tr>\n",
       "      <th>10949</th>\n",
       "      <td>2020-04-02</td>\n",
       "      <td>25.32</td>\n",
       "      <td>2.207</td>\n",
       "    </tr>\n",
       "    <tr>\n",
       "      <th>10950</th>\n",
       "      <td>2020-04-03</td>\n",
       "      <td>28.34</td>\n",
       "      <td>2.207</td>\n",
       "    </tr>\n",
       "    <tr>\n",
       "      <th>10951</th>\n",
       "      <td>2020-04-06</td>\n",
       "      <td>26.08</td>\n",
       "      <td>2.207</td>\n",
       "    </tr>\n",
       "    <tr>\n",
       "      <th>10952</th>\n",
       "      <td>2020-04-07</td>\n",
       "      <td>23.63</td>\n",
       "      <td>2.207</td>\n",
       "    </tr>\n",
       "  </tbody>\n",
       "</table>\n",
       "<p>10953 rows × 3 columns</p>\n",
       "</div>"
      ],
      "text/plain": [
       "           date_x  value_x  value_y\n",
       "0      2010-04-09    84.92    2.897\n",
       "1      2010-04-09    84.92    2.933\n",
       "2      2010-04-09    84.92    2.935\n",
       "3      2010-04-09    84.92    2.920\n",
       "4      2010-04-12    84.34    2.897\n",
       "...           ...      ...      ...\n",
       "10948  2020-04-01    20.31    2.207\n",
       "10949  2020-04-02    25.32    2.207\n",
       "10950  2020-04-03    28.34    2.207\n",
       "10951  2020-04-06    26.08    2.207\n",
       "10952  2020-04-07    23.63    2.207\n",
       "\n",
       "[10953 rows x 3 columns]"
      ]
     },
     "execution_count": 8,
     "metadata": {},
     "output_type": "execute_result"
    }
   ],
   "source": [
    "oildf= df[['date_x','value_x','value_y']]\n",
    "#oil_gdf = oil_gdf[['my',  'value','year']]\n",
    "oildf"
   ]
  },
  {
   "cell_type": "code",
   "execution_count": 9,
   "metadata": {},
   "outputs": [
    {
     "data": {
      "image/png": "[encoded data removed]",
      "text/plain": [
       "<Figure size 432x288 with 1 Axes>"
      ]
     },
     "metadata": {
      "needs_background": "light"
     },
     "output_type": "display_data"
    }
   ],
   "source": [
    "plt.scatter(oildf.value_x, oildf.value_y)\n",
    "plt.xlabel('oil price$')\n",
    "plt.ylabel('gas price$')\n",
    "plt.show()"
   ]
  },
  {
   "cell_type": "code",
   "execution_count": null,
   "metadata": {},
   "outputs": [],
   "source": []
  }
 ],
 "metadata": {
  "kernelspec": {
   "display_name": "mlenv",
   "language": "python",
   "name": "mlenv"
  },
  "language_info": {
   "codemirror_mode": {
    "name": "ipython",
    "version": 3
   },
   "file_extension": ".py",
   "mimetype": "text/x-python",
   "name": "python",
   "nbconvert_exporter": "python",
   "pygments_lexer": "ipython3",
   "version": "3.7.7"
  }
 },
 "nbformat": 4,
 "nbformat_minor": 4
}
